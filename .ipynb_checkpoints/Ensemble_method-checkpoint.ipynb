{
 "cells": [
  {
   "cell_type": "code",
   "execution_count": 52,
   "id": "suburban-intensity",
   "metadata": {},
   "outputs": [
    {
     "name": "stdout",
     "output_type": "stream",
     "text": [
      "(303, 15)\n",
      "(130, 14)\n",
      "(130, 1)\n"
     ]
    }
   ],
   "source": [
    "import pandas as pd\n",
    "from sklearn.preprocessing import LabelEncoder\n",
    "df = pd.read_csv(\"cleve.mod\", sep = \"\\s+\", header=None)\n",
    " #drop last column of df\n",
    "df.columns = [\"age\", \"sex\",\"cp\",\"trestbps\",\"chol\",\"fbs\",\"restecg\",\"thalach\",\"exang\",\"oldpeak\",\"slope\",\"ca\",\"thal\",\"class\",\"target\"]\n",
    "\n",
    "\n",
    "df.head()\n",
    "df.isna().sum()\n",
    "\n",
    "\n",
    "l1 = LabelEncoder()\n",
    "df = df.apply(l1.fit_transform)\n",
    "print(df.shape)\n",
    "\n",
    "Q1 = df.quantile(0.25)\n",
    "Q3 = df.quantile(0.75)\n",
    "IQR = Q3 - Q1\n",
    "\n",
    "df = df[~((df < (Q1 - 1.5 * IQR)) |(df > (Q3 + 1.5 * IQR))).any(axis=1)]\n",
    "\n",
    "from sklearn.model_selection import train_test_split\n",
    "X = df.loc[:, df.columns != 'target']\n",
    "Y = df.iloc[:,-1:]\n",
    "# Split into training and test sets\n",
    "x_train, x_test, y_train, y_test = train_test_split(X, Y, test_size=0.33, random_state=42)\n",
    "print(x_train.shape)\n",
    "print(y_train.shape)\n",
    "\n"
   ]
  },
  {
   "cell_type": "code",
   "execution_count": 40,
   "id": "parallel-studio",
   "metadata": {},
   "outputs": [
    {
     "name": "stdout",
     "output_type": "stream",
     "text": [
      "Accuracy: 0.6\n",
      "Accuracy: 0.85\n",
      "Accuracy: 0.8\n",
      "Accuracy: 0.85\n",
      "Accuracy: 0.7\n",
      "Accuracy: 0.8947368421052632\n",
      "Accuracy: 0.8421052631578947\n",
      "Accuracy: 0.6842105263157895\n",
      "Accuracy: 0.8421052631578947\n",
      "Accuracy: 0.6842105263157895\n"
     ]
    }
   ],
   "source": [
    "from sklearn.model_selection import StratifiedKFold\n",
    "import matplotlib.patches as patches\n",
    "import numpy as np \n",
    "from scipy import interp\n",
    "import pandas as pd\n",
    "from sklearn.preprocessing import LabelEncoder\n",
    "import matplotlib.pylab as plt\n",
    "from sklearn.metrics import roc_curve,auc\n",
    "import warnings\n",
    "warnings.filterwarnings(\"ignore\")\n",
    "x = df.loc[:, df.columns != 'target']\n",
    "y = df.iloc[:,-1:] \n",
    "cv = StratifiedKFold(n_splits=10,shuffle=True)\n",
    "clf = AdaBoostClassifier(n_estimators=50,learning_rate=1)\n",
    "\n",
    "for train,test in cv.split(x,y):\n",
    "    \n",
    "    model = clf.fit(x.iloc[train],y.iloc[train])\n",
    "    y_pred = model.predict(x.iloc[test])\n",
    "\n",
    "    print(\"Accuracy:\",metrics.accuracy_score(y.iloc[test], y_pred))  \n",
    "    \n",
    "    prediction = clf.fit(x.iloc[train],y.iloc[train]).predict_proba(x.iloc[test])\n",
    "    fpr, tpr, t = roc_curve(y[test], prediction[:,0])\n",
    "    tprs.append(interp(mean_fpr, fpr, tpr))\n",
    "    roc_auc = auc(fpr, tpr)\n",
    "    aucs.append(roc_auc)\n",
    "    plt.plot(fpr, tpr, lw=2, alpha=0.3, label='ROC fold %d (AUC = %0.2f)' % (i, roc_auc))\n",
    "    i= i+1\n",
    "\n"
   ]
  },
  {
   "cell_type": "code",
   "execution_count": 66,
   "id": "continuous-luther",
   "metadata": {},
   "outputs": [
    {
     "name": "stdout",
     "output_type": "stream",
     "text": [
      "Final Accuracy:  0.6890350877192982\n",
      "Final F1 score:  0.676398401306296\n",
      "[[1.94765143e-13 3.50964672e-01 3.64805426e-01 1.94325736e-01\n",
      "  8.99041661e-02]\n",
      " [9.97354626e-01 7.79004993e-04 7.20552451e-04 7.98512129e-04\n",
      "  3.47304195e-04]\n",
      " [1.46236768e-13 2.93734787e-01 2.37198686e-01 2.99298874e-01\n",
      "  1.69767653e-01]\n",
      " [1.67456412e-13 3.16115078e-01 2.55233210e-01 2.93036616e-01\n",
      "  1.35615096e-01]\n",
      " [9.97388908e-01 8.44145006e-04 8.69832075e-04 7.00472921e-04\n",
      "  1.96641824e-04]\n",
      " [9.98461746e-01 4.05519759e-04 3.27598947e-04 4.22772659e-04\n",
      "  3.82362269e-04]\n",
      " [9.97601244e-01 7.82096858e-04 5.84124185e-04 7.34777728e-04\n",
      "  2.97756913e-04]\n",
      " [2.14336916e-13 4.22001547e-01 3.09527975e-01 6.82728590e-02\n",
      "  2.00197620e-01]\n",
      " [1.93128395e-13 3.14519387e-01 3.19209847e-01 1.79704084e-01\n",
      "  1.86566683e-01]\n",
      " [9.96839473e-01 9.41745937e-04 7.62321250e-04 1.03812425e-03\n",
      "  4.18335119e-04]\n",
      " [9.96944996e-01 8.25088766e-04 5.85789044e-04 8.14460665e-04\n",
      "  8.29665090e-04]\n",
      " [9.98348589e-01 4.26019277e-04 4.36541423e-04 3.73855870e-04\n",
      "  4.14994227e-04]\n",
      " [1.68376141e-13 3.10708102e-01 2.68718245e-01 2.80847392e-01\n",
      "  1.39726261e-01]\n",
      " [9.97570244e-01 8.03580806e-04 6.52803066e-04 7.92179811e-04\n",
      "  1.81191825e-04]\n",
      " [1.27852257e-13 2.88960458e-01 2.72622647e-01 2.27204596e-01\n",
      "  2.11212298e-01]\n",
      " [9.97601244e-01 7.82096858e-04 5.84124185e-04 7.34777728e-04\n",
      "  2.97756913e-04]\n",
      " [9.97538093e-01 7.58232764e-04 6.72434220e-04 7.26147383e-04\n",
      "  3.05092344e-04]\n",
      " [1.65983582e-13 3.08690050e-01 3.20824434e-01 2.52079810e-01\n",
      "  1.18405706e-01]\n",
      " [1.58435057e-13 3.01956224e-01 2.55083757e-01 3.09685126e-01\n",
      "  1.33274893e-01]]\n"
     ]
    }
   ],
   "source": [
    "from sklearn.model_selection import StratifiedKFold\n",
    "import matplotlib.patches as patches\n",
    "import numpy as np \n",
    "from scipy import interp\n",
    "import pandas as pd\n",
    "from sklearn.preprocessing import LabelEncoder\n",
    "import matplotlib.pylab as plt\n",
    "from sklearn.metrics import roc_curve,auc\n",
    "import statistics\n",
    "import warnings\n",
    "warnings.filterwarnings(\"ignore\")\n",
    "x = df.loc[:, df.columns != 'target']\n",
    "y = df.iloc[:,-1:] \n",
    "cv = StratifiedKFold(n_splits=10,shuffle=True)\n",
    "clf = AdaBoostClassifier(n_estimators=50,learning_rate=1)\n",
    "for train,test in cv.split(x,y):\n",
    "    \n",
    "    model = clf.fit(x.iloc[train],y.iloc[train])\n",
    "    y_pred = model.predict(x.iloc[test])\n",
    "    pred_prob = clf.predict_proba(X.iloc[test])\n",
    "\n",
    "    aucs.append(metrics.accuracy_score(y.iloc[test], y_pred))\n",
    "    fsc.append(metrics.f1_score(y.iloc[test], y_pred, average='weighted'))\n",
    "print(\"Final Accuracy: \",statistics.mean(aucs))\n",
    "print(\"Final F1 score: \",statistics.mean(fsc)) \n",
    "print(pred_prob)\n",
    "\n",
    "\n",
    "\n"
   ]
  },
  {
   "cell_type": "code",
   "execution_count": 68,
   "id": "bottom-questionnaire",
   "metadata": {},
   "outputs": [
    {
     "data": {
      "image/png": "[encoded data removed]",
      "text/plain": [
       "<Figure size 432x288 with 1 Axes>"
      ]
     },
     "metadata": {
      "needs_background": "light"
     },
     "output_type": "display_data"
    }
   ],
   "source": [
    "fpr = {}\n",
    "tpr = {}\n",
    "thresh ={}\n",
    "\n",
    "n_class = 5\n",
    "\n",
    "for i in range(n_class):    \n",
    "    fpr[i], tpr[i], thresh[i] = roc_curve(y.iloc[test], pred_prob[:,i], pos_label=i)\n",
    "    \n",
    "# plotting    \n",
    "plt.plot(fpr[0], tpr[0], linestyle='--',color='orange', label='Class 0 vs Rest')\n",
    "plt.plot(fpr[1], tpr[1], linestyle='--',color='green', label='Class 1 vs Rest')\n",
    "plt.plot(fpr[2], tpr[2], linestyle='--',color='blue', label='Class 2 vs Rest')\n",
    "plt.plot(fpr[], tpr[], linestyle='--',color='b', label='Class vs Rest')\n",
    "\n",
    "plt.title('Multiclass ROC curve')\n",
    "plt.xlabel('False Positive Rate')\n",
    "plt.ylabel('True Positive rate')\n",
    "plt.legend(loc='best')\n",
    "plt.savefig('Multiclass ROC',dpi=300);    "
   ]
  },
  {
   "cell_type": "code",
   "execution_count": 51,
   "id": "primary-storage",
   "metadata": {},
   "outputs": [
    {
     "data": {
      "text/plain": [
       "0    100\n",
       "1     95\n",
       "Name: class, dtype: int64"
      ]
     },
     "execution_count": 51,
     "metadata": {},
     "output_type": "execute_result"
    }
   ],
   "source": [
    "df[\"class\"].value_counts()"
   ]
  },
  {
   "cell_type": "code",
   "execution_count": null,
   "id": "intermediate-forum",
   "metadata": {},
   "outputs": [],
   "source": []
  }
 ],
 "metadata": {
  "kernelspec": {
   "display_name": "Python 3",
   "language": "python",
   "name": "python3"
  },
  "language_info": {
   "codemirror_mode": {
    "name": "ipython",
    "version": 3
   },
   "file_extension": ".py",
   "mimetype": "text/x-python",
   "name": "python",
   "nbconvert_exporter": "python",
   "pygments_lexer": "ipython3",
   "version": "3.9.2"
  }
 },
 "nbformat": 4,
 "nbformat_minor": 5
}
