{
 "cells": [
  {
   "cell_type": "code",
   "execution_count": 6,
   "id": "broadband-process",
   "metadata": {},
   "outputs": [
    {
     "name": "stdout",
     "output_type": "stream",
     "text": [
      "(4, 2)\n",
      "(4, 1)\n",
      "[[0]\n",
      " [1]\n",
      " [1]\n",
      " [1]]\n"
     ]
    }
   ],
   "source": [
    "import numpy as np\n",
    "#defining inputs\n",
    "input = np.array([[0,0],[0,1],[1,0],[1,1]])\n",
    "print(input.shape)\n",
    "\n",
    "#defining target outputs\n",
    "target_output = np.array([[0,1,1,1]]).reshape(4,1)\n",
    "print(target_output.shape)\n",
    "print(target_output)"
   ]
  },
  {
   "cell_type": "code",
   "execution_count": null,
   "id": "instant-affiliate",
   "metadata": {},
   "outputs": [],
   "source": [
    "#defining random weights\n",
    "weights = np.array([[0.1],[0.2]])\n",
    "#defining bias\n",
    "bias =0.3 \n",
    "#defining learning rate\n",
    "lr=0.05\n",
    "\n",
    "def sigmoid(i):\n",
    "    return 1/(1+np.exp(-x))\n",
    "\n",
    "def sigmoid_der(x):\n",
    "     return sigmoid(x)*(1-sigmoid(x))\n",
    "    \n"
   ]
  }
 ],
 "metadata": {
  "kernelspec": {
   "display_name": "Python 3",
   "language": "python",
   "name": "python3"
  },
  "language_info": {
   "codemirror_mode": {
    "name": "ipython",
    "version": 3
   },
   "file_extension": ".py",
   "mimetype": "text/x-python",
   "name": "python",
   "nbconvert_exporter": "python",
   "pygments_lexer": "ipython3",
   "version": "3.9.2"
  }
 },
 "nbformat": 4,
 "nbformat_minor": 5
}
