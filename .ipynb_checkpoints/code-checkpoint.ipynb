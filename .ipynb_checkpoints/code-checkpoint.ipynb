{
 "cells": [
  {
   "cell_type": "code",
   "execution_count": 29,
   "metadata": {},
   "outputs": [
    {
     "name": "stdout",
     "output_type": "stream",
     "text": [
      "Mortality rate for USA is 116.01010224396819\n"
     ]
    }
   ],
   "source": [
    "import pandas as pd\n",
    "from sklearn.model_selection import train_test_split\n",
    "from sklearn.linear_model import LinearRegression\n",
    "import numpy as np\n",
    "\n",
    "data = pd.read_csv(\"hw_3.csv\");\n",
    "df = pd.DataFrame(data)\n",
    "a=df.iloc[:,:-1].values  \n",
    "b=df.iloc[:,-1:].values \n",
    "\n",
    "#Taking referenvce from https://scikit-learn.org/stable/modules/generated/sklearn.linear_model.LinearRegression.html\n",
    "X_train, X_test, y_train, y_test = train_test_split(a, b, test_size=0.30, random_state=1)\n",
    "reg = LinearRegression().fit(X_train, y_train)\n",
    "r_sq = reg.score(X_train, y_train)\n",
    "\n",
    "#2.9 and 15.4 are the beds count per 1000 people and percent of people above 65 in USA\n",
    "usa_data = np.array([[2.9, 15.4]])\n",
    "usa_mortality = reg.predict(usa_data)\n",
    "print(\"Mortality rate for USA is\",usa_mortality[0][0])"
   ]
  },
  {
   "cell_type": "markdown",
   "metadata": {},
   "source": [
    "Training the model using the above data for 10 different countries."
   ]
  }
 ],
 "metadata": {
  "kernelspec": {
   "display_name": "Python 3",
   "language": "python",
   "name": "python3"
  },
  "language_info": {
   "codemirror_mode": {
    "name": "ipython",
    "version": 3
   },
   "file_extension": ".py",
   "mimetype": "text/x-python",
   "name": "python",
   "nbconvert_exporter": "python",
   "pygments_lexer": "ipython3",
   "version": "3.9.2"
  }
 },
 "nbformat": 4,
 "nbformat_minor": 2
}
